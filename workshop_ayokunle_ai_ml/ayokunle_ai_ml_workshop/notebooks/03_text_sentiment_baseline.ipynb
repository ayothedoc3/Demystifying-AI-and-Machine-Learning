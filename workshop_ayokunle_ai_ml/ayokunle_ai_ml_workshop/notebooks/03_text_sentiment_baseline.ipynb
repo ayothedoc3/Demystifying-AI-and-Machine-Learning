{
 "cells": [
  {
   "cell_type": "markdown",
   "id": "f4d457ce",
   "metadata": {},
   "source": [
    "# Text Sentiment, no internet needed\n",
    "We use a tiny labeled dataset and a simple bag-of-words model."
   ]
  },
  {
   "cell_type": "code",
   "execution_count": 8,
   "id": "3315397b",
   "metadata": {},
   "outputs": [
    {
     "name": "stdout",
     "output_type": "stream",
     "text": [
      "     pred_neg  pred_pos\n",
      "neg         1         4\n",
      "pos         3         2\n",
      "I am very happy with this service -> pos\n",
      "This broke and wasted my time -> neg\n",
      "I want to try to pay but it does not work -> neg\n"
     ]
    }
   ],
   "source": [
    "from sklearn.model_selection import StratifiedKFold, cross_val_predict\n",
    "from sklearn.pipeline import make_pipeline\n",
    "from sklearn.feature_extraction.text import TfidfVectorizer\n",
    "from sklearn.svm import LinearSVC\n",
    "from sklearn.metrics import classification_report, confusion_matrix\n",
    "import pandas as pd\n",
    "\n",
    "pipe = make_pipeline(\n",
    "    TfidfVectorizer(analyzer='char', ngram_range=(3,5), lowercase=True, min_df=1),\n",
    "    LinearSVC()  # robust on tiny text\n",
    ")\n",
    "\n",
    "cv = StratifiedKFold(n_splits=5, shuffle=True, random_state=42)\n",
    "y_pred = cross_val_predict(pipe, df['text'], df['label'], cv=cv)\n",
    "\n",
    "# print(classification_report(df['label'], y_pred, zero_division=0))\n",
    "print(pd.DataFrame(confusion_matrix(df['label'], y_pred),\n",
    "                   index=['neg','pos'], columns=['pred_neg','pred_pos']))\n",
    "\n",
    "# fit once for live preds\n",
    "pipe.fit(df['text'], df['label'])\n",
    "for s in [\n",
    "    \"I am very happy with this service\",\n",
    "    \"This broke and wasted my time\",\n",
    "    \"I want to try to pay but it does not work\"\n",
    "]:\n",
    "    print(s, \"->\", pipe.predict([s])[0])\n"
   ]
  },
  {
   "cell_type": "markdown",
   "id": "72000f4e",
   "metadata": {},
   "source": [
    "## Takeaways\n",
    "- Start with simple models and strong baselines\n",
    "- Feature engineering and clean data often beat complex models\n",
    "- Always keep a held-out test set"
   ]
  },
  {
   "cell_type": "code",
   "execution_count": null,
   "id": "35b16856-4c00-4c8b-9451-990b02761ffb",
   "metadata": {},
   "outputs": [],
   "source": []
  },
  {
   "cell_type": "code",
   "execution_count": null,
   "id": "fd8f9e73-bbb5-42f9-a7b4-7d959cef82fc",
   "metadata": {},
   "outputs": [],
   "source": []
  }
 ],
 "metadata": {
  "kernelspec": {
   "display_name": "Python 3 (ipykernel)",
   "language": "python",
   "name": "python3"
  },
  "language_info": {
   "codemirror_mode": {
    "name": "ipython",
    "version": 3
   },
   "file_extension": ".py",
   "mimetype": "text/x-python",
   "name": "python",
   "nbconvert_exporter": "python",
   "pygments_lexer": "ipython3",
   "version": "3.13.5"
  }
 },
 "nbformat": 4,
 "nbformat_minor": 5
}
