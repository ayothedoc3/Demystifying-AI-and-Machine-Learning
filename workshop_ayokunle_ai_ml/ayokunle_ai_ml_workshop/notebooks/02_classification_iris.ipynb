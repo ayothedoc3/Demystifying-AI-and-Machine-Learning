{
 "cells": [
  {
   "cell_type": "markdown",
   "id": "38f37843",
   "metadata": {},
   "source": [
    "# Fast Classification with scikit-learn\n",
    "This example uses the Iris dataset."
   ]
  },
  {
   "cell_type": "code",
   "execution_count": 1,
   "id": "0ae6cce2",
   "metadata": {},
   "outputs": [
    {
     "name": "stdout",
     "output_type": "stream",
     "text": [
      "Accuracy: 0.9666666666666667\n",
      "              precision    recall  f1-score   support\n",
      "\n",
      "           0       1.00      1.00      1.00        10\n",
      "           1       1.00      0.90      0.95        10\n",
      "           2       0.91      1.00      0.95        10\n",
      "\n",
      "    accuracy                           0.97        30\n",
      "   macro avg       0.97      0.97      0.97        30\n",
      "weighted avg       0.97      0.97      0.97        30\n",
      "\n"
     ]
    }
   ],
   "source": [
    "import pandas as pd\n",
    "from sklearn.model_selection import train_test_split\n",
    "from sklearn.linear_model import LogisticRegression\n",
    "from sklearn.metrics import accuracy_score, classification_report\n",
    "\n",
    "# Load\n",
    "iris = pd.read_csv('../data/iris.csv')\n",
    "X = iris.drop(columns=['target'])\n",
    "y = iris['target']\n",
    "\n",
    "# Split\n",
    "X_train, X_test, y_train, y_test = train_test_split(X, y, test_size=0.2, random_state=42, stratify=y)\n",
    "\n",
    "# Train baseline\n",
    "clf = LogisticRegression(max_iter=1000)\n",
    "clf.fit(X_train, y_train)\n",
    "\n",
    "# Evaluate\n",
    "pred = clf.predict(X_test)\n",
    "print('Accuracy:', accuracy_score(y_test, pred))\n",
    "print(classification_report(y_test, pred))"
   ]
  },
  {
   "cell_type": "markdown",
   "id": "11ab796d",
   "metadata": {},
   "source": [
    "## What happened\n",
    "- We used logistic regression which is a strong baseline\n",
    "- We trained on 80 percent and tested on 20 percent\n",
    "- We reported accuracy and per-class metrics"
   ]
  },
  {
   "cell_type": "markdown",
   "id": "c2309eb4",
   "metadata": {},
   "source": [
    "## Try a different model"
   ]
  },
  {
   "cell_type": "code",
   "execution_count": 2,
   "id": "d09aa840",
   "metadata": {},
   "outputs": [
    {
     "name": "stdout",
     "output_type": "stream",
     "text": [
      "RandomForest test accuracy: 0.9\n"
     ]
    }
   ],
   "source": [
    "from sklearn.ensemble import RandomForestClassifier\n",
    "rf = RandomForestClassifier(random_state=42)\n",
    "rf.fit(X_train, y_train)\n",
    "print('RandomForest test accuracy:', rf.score(X_test, y_test))"
   ]
  },
  {
   "cell_type": "markdown",
   "id": "ff4b6b4c",
   "metadata": {},
   "source": [
    "## Inspect feature importance"
   ]
  },
  {
   "cell_type": "code",
   "execution_count": 3,
   "id": "69067843",
   "metadata": {},
   "outputs": [
    {
     "name": "stderr",
     "output_type": "stream",
     "text": [
      "Matplotlib is building the font cache; this may take a moment.\n"
     ]
    },
    {
     "data": {
      "image/png": "[encoded data removed]",
      "text/plain": [
       "<Figure size 640x480 with 1 Axes>"
      ]
     },
     "metadata": {},
     "output_type": "display_data"
    }
   ],
   "source": [
    "import pandas as pd\n",
    "import matplotlib.pyplot as plt\n",
    "import numpy as np\n",
    "\n",
    "rf = RandomForestClassifier(random_state=42)\n",
    "rf.fit(X_train, y_train)\n",
    "imp = pd.Series(rf.feature_importances_, index=X.columns).sort_values(ascending=False)\n",
    "ax = imp.plot(kind='bar')\n",
    "ax.set_title('Feature importance')\n",
    "ax.set_ylabel('Importance')\n",
    "plt.show()"
   ]
  },
  {
   "cell_type": "code",
   "execution_count": null,
   "id": "c2de8a3e-7690-4b78-8f78-4ac22dcc5ab9",
   "metadata": {},
   "outputs": [],
   "source": []
  },
  {
   "cell_type": "code",
   "execution_count": null,
   "id": "d647bd14-3d2c-4cff-b810-30f1acc607ec",
   "metadata": {},
   "outputs": [],
   "source": []
  }
 ],
 "metadata": {
  "kernelspec": {
   "display_name": "Python 3 (ipykernel)",
   "language": "python",
   "name": "python3"
  },
  "language_info": {
   "codemirror_mode": {
    "name": "ipython",
    "version": 3
   },
   "file_extension": ".py",
   "mimetype": "text/x-python",
   "name": "python",
   "nbconvert_exporter": "python",
   "pygments_lexer": "ipython3",
   "version": "3.13.5"
  }
 },
 "nbformat": 4,
 "nbformat_minor": 5
}
