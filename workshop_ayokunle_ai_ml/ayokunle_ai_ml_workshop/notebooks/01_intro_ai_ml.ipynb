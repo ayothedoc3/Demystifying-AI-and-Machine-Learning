{
 "cells": [
  {
   "cell_type": "markdown",
   "id": "eaac2d80",
   "metadata": {},
   "source": [
    "# Demystifying AI and Machine Learning\n",
    "\n",
    "This notebook supports a live workshop. You will:\n",
    "\n",
    "- Learn the plain-language map: AI, ML, deep learning\n",
    "- Train a simple model in minutes\n",
    "- Evaluate it and avoid common mistakes\n",
    "- Connect to real problems"
   ]
  },
  {
   "cell_type": "markdown",
   "id": "f0f9d29e",
   "metadata": {},
   "source": [
    "## Setup\n",
    "Run the cell below to check versions."
   ]
  },
  {
   "cell_type": "code",
   "execution_count": 1,
   "id": "2b9e7d52",
   "metadata": {},
   "outputs": [
    {
     "name": "stdout",
     "output_type": "stream",
     "text": [
      "Python: 3.13.5\n",
      "NumPy: 2.3.3\n",
      "Pandas: 2.3.3\n",
      "scikit-learn: 1.7.2\n",
      "Matplotlib: 3.10.6\n"
     ]
    }
   ],
   "source": [
    "import sys, numpy, pandas, sklearn, matplotlib\n",
    "print('Python:', sys.version.split()[0])\n",
    "print('NumPy:', numpy.__version__)\n",
    "print('Pandas:', pandas.__version__)\n",
    "print('scikit-learn:', sklearn.__version__)\n",
    "print('Matplotlib:', matplotlib.__version__)"
   ]
  },
  {
   "cell_type": "markdown",
   "id": "ebd42d2a",
   "metadata": {},
   "source": [
    "## AI vs ML vs Deep Learning\n",
    "\n",
    "- AI: systems that perform tasks that normally require human intelligence\n",
    "- Machine Learning: algorithms that learn patterns from data\n",
    "- Deep Learning: ML with many-layer neural networks\n",
    "\n",
    "Key mental model: Data → Features → Model → Metrics → Deploy"
   ]
  },
  {
   "cell_type": "markdown",
   "id": "9b7e9790",
   "metadata": {},
   "source": [
    "## Project Recipe\n",
    "1. Define the decision and success metric\n",
    "2. Collect and clean data\n",
    "3. Split into train and test sets\n",
    "4. Choose a simple baseline\n",
    "5. Iterate only if baseline is weak\n",
    "6. Validate, then ship\n",
    "\n",
    "You can solve many problems with this loop."
   ]
  },
  {
   "cell_type": "markdown",
   "id": "3490c5f3",
   "metadata": {},
   "source": [
    "Proceed to the classification notebook when ready."
   ]
  }
 ],
 "metadata": {
  "kernelspec": {
   "display_name": "Python 3 (ipykernel)",
   "language": "python",
   "name": "python3"
  },
  "language_info": {
   "codemirror_mode": {
    "name": "ipython",
    "version": 3
   },
   "file_extension": ".py",
   "mimetype": "text/x-python",
   "name": "python",
   "nbconvert_exporter": "python",
   "pygments_lexer": "ipython3",
   "version": "3.13.5"
  }
 },
 "nbformat": 4,
 "nbformat_minor": 5
}
